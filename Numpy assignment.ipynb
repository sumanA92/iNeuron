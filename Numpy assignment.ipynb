{
 "cells": [
  {
   "cell_type": "markdown",
   "metadata": {},
   "source": [
    "**Write a function so that the columns of the output matrix are powers of the input\n",
    "vector.**\n",
    "\n",
    "The order of the powers is determined by the increasing boolean argument. Specifically, when\n",
    "increasing is False, the i-th output column is the input vector raised element-wise to the power\n",
    "of N - i - 1.\n",
    "\n",
    "HINT: Such a matrix with a geometric progression in each row is named for AlexandreTheophile Vandermonde"
   ]
  },
  {
   "cell_type": "code",
   "execution_count": 25,
   "metadata": {},
   "outputs": [],
   "source": [
    "import numpy as np\n",
    "def Vandermonde(matrix,  N, increasing=True):\n",
    "    power_arry = np.ones((len(matrix), 1), dtype=np.int32)\n",
    "    \n",
    "    #generating powers of input array and appending on each iteration. power is from 0 to N-1\n",
    "    for power in range(1, N):\n",
    "        temp_arry = np.array(matrix)**power\n",
    "        temp_arry = temp_arry.reshape(-1, 1)\n",
    "        if increasing:\n",
    "            power_arry = np.concatenate((power_arry, temp_arry), axis=1)\n",
    "        else:    \n",
    "            power_arry = np.concatenate((temp_arry, power_arry), axis=1)\n",
    "        \n",
    "    return power_arry    "
   ]
  },
  {
   "cell_type": "code",
   "execution_count": 26,
   "metadata": {},
   "outputs": [
    {
     "data": {
      "text/plain": [
       "array([[  1,   1,   1,   1,   1],\n",
       "       [  1,   2,   4,   8,  16],\n",
       "       [  1,   3,   9,  27,  81],\n",
       "       [  1,   4,  16,  64, 256]])"
      ]
     },
     "execution_count": 26,
     "metadata": {},
     "output_type": "execute_result"
    }
   ],
   "source": [
    "Vandermonde([1, 2, 3, 4], 5)"
   ]
  },
  {
   "cell_type": "code",
   "execution_count": 27,
   "metadata": {},
   "outputs": [
    {
     "data": {
      "text/plain": [
       "array([[  1,   1,   1,   1,   1],\n",
       "       [ 16,   8,   4,   2,   1],\n",
       "       [ 81,  27,   9,   3,   1],\n",
       "       [256,  64,  16,   4,   1]])"
      ]
     },
     "execution_count": 27,
     "metadata": {},
     "output_type": "execute_result"
    }
   ],
   "source": [
    "Vandermonde([1, 2, 3, 4], 5, False)"
   ]
  },
  {
   "cell_type": "markdown",
   "metadata": {},
   "source": [
    "**Given a sequence of n values x1, x2, ..., xn and a window size k>0, the k-th moving average of**\n",
    "\n",
    "the given sequence is defined as follows:The moving averages with k=4 of a ten-value sequence (n=10) is shown below\n",
    "\n",
    "i 1 2 3 4 5 6 7 8 9 10\n",
    "===== == == == == == == == == == ==\n",
    "Input 10 20 30 40 50 60 70 80 90 100\n",
    "y1 25 = (10+20+30+40)/4\n",
    "y2 35 = (20+30+40+50)/4\n",
    "y3 45 = (30+40+50+60)/4\n",
    "y4 55 = (40+50+60+70)/4\n",
    "y5 65 = (50+60+70+80)/4\n",
    "y6 75 = (60+70+80+90)/4\n",
    "y7 85 = (70+80+90+100)/4\n",
    "\n",
    "**Question**: Write a function to find moving average in an array over a window:\n",
    "Test it over [3, 5, 7, 2, 8, 10, 11, 65, 72, 81, 99, 100, 150] and window of 3."
   ]
  },
  {
   "cell_type": "code",
   "execution_count": 45,
   "metadata": {},
   "outputs": [],
   "source": [
    "import itertools as it\n",
    "def moving_average(sequence, window):\n",
    "    end = len(sequence)-window+1\n",
    "    start = 0\n",
    "    mvavg_lst = []\n",
    "    for step in range(start, end):\n",
    "        mvavg_lst.append(np.mean( sequence[step:step+window] ) )\n",
    "        \n",
    "    mvavg = zip(it.count(start=1), mvavg_lst)\n",
    "    for item in mvavg:\n",
    "        print(f\"Moving average {item[0]} is {item[1]}\")"
   ]
  },
  {
   "cell_type": "code",
   "execution_count": 47,
   "metadata": {},
   "outputs": [
    {
     "name": "stdout",
     "output_type": "stream",
     "text": [
      "Moving average 1 is 25.0\n",
      "Moving average 2 is 35.0\n",
      "Moving average 3 is 45.0\n",
      "Moving average 4 is 55.0\n",
      "Moving average 5 is 65.0\n",
      "Moving average 6 is 75.0\n",
      "Moving average 7 is 85.0\n"
     ]
    }
   ],
   "source": [
    "moving_average(list(range(10, 101, 10)), 4)"
   ]
  },
  {
   "cell_type": "code",
   "execution_count": 48,
   "metadata": {},
   "outputs": [
    {
     "name": "stdout",
     "output_type": "stream",
     "text": [
      "Moving average 1 is 5.0\n",
      "Moving average 2 is 4.666666666666667\n",
      "Moving average 3 is 5.666666666666667\n",
      "Moving average 4 is 6.666666666666667\n",
      "Moving average 5 is 9.666666666666666\n",
      "Moving average 6 is 28.666666666666668\n",
      "Moving average 7 is 49.333333333333336\n",
      "Moving average 8 is 72.66666666666667\n",
      "Moving average 9 is 84.0\n",
      "Moving average 10 is 93.33333333333333\n",
      "Moving average 11 is 116.33333333333333\n"
     ]
    }
   ],
   "source": [
    "moving_average([3, 5, 7, 2, 8, 10, 11, 65, 72, 81, 99, 100, 150], 3)"
   ]
  },
  {
   "cell_type": "code",
   "execution_count": null,
   "metadata": {},
   "outputs": [],
   "source": []
  }
 ],
 "metadata": {
  "kernelspec": {
   "display_name": "Python 3",
   "language": "python",
   "name": "python3"
  },
  "language_info": {
   "codemirror_mode": {
    "name": "ipython",
    "version": 3
   },
   "file_extension": ".py",
   "mimetype": "text/x-python",
   "name": "python",
   "nbconvert_exporter": "python",
   "pygments_lexer": "ipython3",
   "version": "3.7.1"
  }
 },
 "nbformat": 4,
 "nbformat_minor": 2
}
