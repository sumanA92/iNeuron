{
 "cells": [
  {
   "cell_type": "markdown",
   "metadata": {},
   "source": [
    "<b>1.1 Write a Python Program(with class concepts) to find the area of the triangle using the below\n",
    "formula.</b>\n",
    "\n",
    "area = `(s*(s-a)*(s-b)*(s-c)) ** 0.5`\n",
    "\n",
    "Function to take the length of the sides of triangle from user should be defined in the parent\n",
    "class and function to calculate the area should be defined in subclass."
   ]
  },
  {
   "cell_type": "code",
   "execution_count": 69,
   "metadata": {},
   "outputs": [],
   "source": [
    "class Triangle:\n",
    "    \n",
    "    def __init__(self, **kwargs):\n",
    "        self._a = kwargs.get('a', 0)\n",
    "        self._b = kwargs.get('b', 0)\n",
    "        self._c = kwargs.get('c', 0)\n",
    "    \n",
    "    @property\n",
    "    def _s(self):\n",
    "        return ( self._a + self._b + self._c ) / 2\n",
    "        \n",
    "    def input_triangle_vertices(self):\n",
    "        a = int(input(\"Triable side 'A' length:\"))\n",
    "        b = int(input(\"Triable side 'B' length:\"))\n",
    "        c = int(input(\"Triable side 'C' length:\"))\n",
    "        \n",
    "        self._a = a\n",
    "        self._b = b\n",
    "        self._c = c\n",
    "    \n",
    "    def area(self):\n",
    "        pass"
   ]
  },
  {
   "cell_type": "code",
   "execution_count": 80,
   "metadata": {},
   "outputs": [],
   "source": [
    "import math\n",
    "class TriangleUnequalVertices(Triangle):\n",
    "    \n",
    "    def __init__(self, **kwargs):\n",
    "        if len(kwargs) > 0:\n",
    "            super(TriangleUnequalVertices, self).__init__(**kwargs)\n",
    "    \n",
    "    def area(self):\n",
    "        \n",
    "        a_s_sub = self._s - self._a\n",
    "        b_s_sub = self._s - self._a\n",
    "        c_s_sub = self._s - self._a\n",
    "        area = math.sqrt( self._s * a_s_sub * b_s_sub * c_s_sub )\n",
    "        \n",
    "        return round(area, 3)"
   ]
  },
  {
   "cell_type": "code",
   "execution_count": 81,
   "metadata": {},
   "outputs": [
    {
     "data": {
      "text/plain": [
       "4.899"
      ]
     },
     "execution_count": 81,
     "metadata": {},
     "output_type": "execute_result"
    }
   ],
   "source": [
    "triangle = TriangleUnequalVertices(a = 1, b = 2, c = 3)\n",
    "#triangle = TriangleUnequalVertices()\n",
    "#triangle.input_triangle_vertices()\n",
    "triangle.area()"
   ]
  },
  {
   "cell_type": "markdown",
   "metadata": {},
   "source": [
    "<b>1.2 Write a function filter_long_words() that takes a list of words and an integer n and returns\n",
    "the list of words that are longer than n.</b>"
   ]
  },
  {
   "cell_type": "code",
   "execution_count": 50,
   "metadata": {},
   "outputs": [],
   "source": [
    "def filter_long_words(lst_of_words, n=10):\n",
    "    #lst_of_words = filter(lambda word: len(word) > n, lst_of_words)\n",
    "    filtered_words = []\n",
    "    for word in  lst_of_words:\n",
    "        if lambda word: len(word) > n:\n",
    "            filtered_words += word\n",
    "            \n",
    "    lst_of_words = filtered_words    "
   ]
  },
  {
   "cell_type": "code",
   "execution_count": 59,
   "metadata": {},
   "outputs": [
    {
     "data": {
      "text/plain": [
       "['Keyword',\n",
       " 'parameters',\n",
       " 'are',\n",
       " 'matched',\n",
       " 'only',\n",
       " 'with',\n",
       " 'arguments',\n",
       " 'with',\n",
       " 'exact',\n",
       " 'matching',\n",
       " 'keyword',\n",
       " 'names;',\n",
       " 'your',\n",
       " 'Foo',\n",
       " 'method',\n",
       " 'would']"
      ]
     },
     "execution_count": 59,
     "metadata": {},
     "output_type": "execute_result"
    }
   ],
   "source": [
    "statement = 'Keyword parameters are matched only with arguments with exact matching keyword names; your Foo method would'\n",
    "lst_of_words = statement.split()\n",
    "filter_long_words(lst_of_words, 5)\n",
    "lst_of_words"
   ]
  },
  {
   "cell_type": "markdown",
   "metadata": {},
   "source": [
    "<b>2.1 Write a Python program using function concept that maps list of words into a list of integers\n",
    "representing the lengths of the corresponding words.\n",
    "</b>\n",
    "\n",
    "Hint: If a list [ ab,cde,erty] is passed on to the python function output should come as [2,3,4].\n",
    "Here 2,3 and 4 are the lengths of the words in the list"
   ]
  },
  {
   "cell_type": "code",
   "execution_count": 60,
   "metadata": {},
   "outputs": [],
   "source": [
    "def word_to_number(lst_of_words):\n",
    "    #maped_lst = map(lambda word: len(word), lst_of_words)\n",
    "    maped_lst = []\n",
    "    for word in  lst_of_words:\n",
    "        maped_lst.append(len(word))\n",
    "            \n",
    "    return maped_lst"
   ]
  },
  {
   "cell_type": "code",
   "execution_count": 61,
   "metadata": {},
   "outputs": [
    {
     "data": {
      "text/plain": [
       "[7, 10, 3, 7, 4, 4, 9, 4, 5, 8, 7, 6, 4, 3, 6, 5, 4]"
      ]
     },
     "execution_count": 61,
     "metadata": {},
     "output_type": "execute_result"
    }
   ],
   "source": [
    "statement = 'Keyword parameters are matched only with arguments with exact matching keyword names; your Foo method would need'\n",
    "lst_of_words = statement.split()\n",
    "word_to_number(lst_of_words)"
   ]
  },
  {
   "cell_type": "markdown",
   "metadata": {},
   "source": [
    "<b>2.2 Write a Python function which takes a character (i.e. a string of length 1) and returns True if\n",
    "it is a vowel, False otherwise.</b>"
   ]
  },
  {
   "cell_type": "code",
   "execution_count": 65,
   "metadata": {},
   "outputs": [],
   "source": [
    "def isVowel(input):\n",
    "    \n",
    "    if len(input) > 1:\n",
    "        raise TypeError('input length should not be > 1')\n",
    "    elif input.lower() in 'a, e, i, o, u':\n",
    "        return True\n",
    "    else:\n",
    "        return False"
   ]
  },
  {
   "cell_type": "code",
   "execution_count": 68,
   "metadata": {},
   "outputs": [
    {
     "name": "stdout",
     "output_type": "stream",
     "text": [
      "A is vowel : True\n"
     ]
    }
   ],
   "source": [
    "input_chr = 'A'\n",
    "print('{} is vowel : {}'.format(input_chr, isVowel(input_chr)) )"
   ]
  },
  {
   "cell_type": "code",
   "execution_count": null,
   "metadata": {},
   "outputs": [],
   "source": []
  },
  {
   "cell_type": "code",
   "execution_count": null,
   "metadata": {},
   "outputs": [],
   "source": []
  }
 ],
 "metadata": {
  "kernelspec": {
   "display_name": "Python 3",
   "language": "python",
   "name": "python3"
  },
  "language_info": {
   "codemirror_mode": {
    "name": "ipython",
    "version": 3
   },
   "file_extension": ".py",
   "mimetype": "text/x-python",
   "name": "python",
   "nbconvert_exporter": "python",
   "pygments_lexer": "ipython3",
   "version": "3.7.1"
  }
 },
 "nbformat": 4,
 "nbformat_minor": 2
}
